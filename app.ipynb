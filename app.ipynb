{
 "cells": [
  {
   "cell_type": "code",
   "execution_count": null,
   "metadata": {},
   "outputs": [
    {
     "name": "stdout",
     "output_type": "stream",
     "text": [
      " * Serving Flask app \"__main__\" (lazy loading)\n",
      " * Environment: production\n",
      "   WARNING: This is a development server. Do not use it in a production deployment.\n",
      "   Use a production WSGI server instead.\n",
      " * Debug mode: off\n"
     ]
    },
    {
     "name": "stderr",
     "output_type": "stream",
     "text": [
      " * Running on http://127.0.0.1:5000/ (Press CTRL+C to quit)\n",
      "127.0.0.1 - - [10/Aug/2020 17:27:41] \"GET / HTTP/1.1\" 404 -\n",
      "127.0.0.1 - - [10/Aug/2020 17:27:41] \"GET /favicon.ico HTTP/1.1\" 404 -\n",
      "127.0.0.1 - - [10/Aug/2020 17:31:02] \"GET / HTTP/1.1\" 404 -\n",
      "127.0.0.1 - - [10/Aug/2020 17:31:51] \"GET / HTTP/1.1\" 404 -\n"
     ]
    }
   ],
   "source": [
    "from __future__ import unicode_literals\n",
    "import os\n",
    "from flask import Flask, request, abort\n",
    "from linebot import LineBotApi, WebhookHandler\n",
    "from linebot.exceptions import InvalidSignatureError\n",
    "from linebot.models import MessageEvent, TextMessage, TextSendMessage\n",
    "\n",
    "import configparser\n",
    "\n",
    "import random\n",
    "\n",
    "app = Flask(__name__)\n",
    "\n",
    "# LINE 聊天機器人的基本資料\n",
    "config = configparser.ConfigParser()\n",
    "config.read('config.ini')\n",
    "\n",
    "line_bot_api = LineBotApi(config.get('line-bot', 'channel_access_token'))\n",
    "handler = WebhookHandler(config.get('line-bot', 'channel_secret'))\n",
    "\n",
    "\n",
    "# 接收 LINE 的資訊\n",
    "@app.route(\"/callback\", methods=['POST'])\n",
    "def callback():\n",
    "    signature = request.headers['X-Line-Signature']\n",
    "\n",
    "    body = request.get_data(as_text=True)\n",
    "    app.logger.info(\"Request body: \" + body)\n",
    "    \n",
    "    try:\n",
    "        print(body, signature)\n",
    "        handler.handle(body, signature)\n",
    "        \n",
    "    except InvalidSignatureError:\n",
    "        abort(400)\n",
    "\n",
    "    return 'OK'\n",
    "\n",
    "# 學你說話\n",
    "@handler.add(MessageEvent, message=TextMessage)\n",
    "def pretty_echo(event):\n",
    "    \n",
    "    if event.source.user_id != \"Udeadbeefdeadbeefdeadbeefdeadbeef\":\n",
    "        \n",
    "        # Phoebe 愛唱歌\n",
    "        pretty_note = '♫♪♬'\n",
    "        pretty_text = ''\n",
    "        \n",
    "        for i in event.message.text:\n",
    "        \n",
    "            pretty_text += i\n",
    "            pretty_text += random.choice(pretty_note)\n",
    "    \n",
    "        line_bot_api.reply_message(\n",
    "            event.reply_token,\n",
    "            TextSendMessage(text=pretty_text)\n",
    "        )\n",
    "\n",
    "if __name__ == \"__main__\":\n",
    "    app.run()"
   ]
  },
  {
   "cell_type": "code",
   "execution_count": 2,
   "metadata": {},
   "outputs": [
    {
     "ename": "ImportError",
     "evalue": "cannot import name 'requests' from 'flask' (C:\\ProgramData\\Anaconda3\\lib\\site-packages\\flask\\__init__.py)",
     "output_type": "error",
     "traceback": [
      "\u001b[1;31m---------------------------------------------------------------------------\u001b[0m",
      "\u001b[1;31mImportError\u001b[0m                               Traceback (most recent call last)",
      "\u001b[1;32m<ipython-input-2-3122277013fe>\u001b[0m in \u001b[0;36m<module>\u001b[1;34m\u001b[0m\n\u001b[1;32m----> 1\u001b[1;33m \u001b[1;32mfrom\u001b[0m \u001b[0mflask\u001b[0m \u001b[1;32mimport\u001b[0m \u001b[0mFlask\u001b[0m\u001b[1;33m,\u001b[0m \u001b[0mrequests\u001b[0m\u001b[1;33m\u001b[0m\u001b[1;33m\u001b[0m\u001b[0m\n\u001b[0m\u001b[0;32m      2\u001b[0m \u001b[1;33m\u001b[0m\u001b[0m\n\u001b[0;32m      3\u001b[0m \u001b[0mapp\u001b[0m \u001b[1;33m=\u001b[0m \u001b[0mFlask\u001b[0m\u001b[1;33m(\u001b[0m\u001b[0m__name__\u001b[0m\u001b[1;33m)\u001b[0m\u001b[1;33m\u001b[0m\u001b[1;33m\u001b[0m\u001b[0m\n\u001b[0;32m      4\u001b[0m \u001b[1;33m\u001b[0m\u001b[0m\n\u001b[0;32m      5\u001b[0m \u001b[1;33m@\u001b[0m\u001b[0mapp\u001b[0m\u001b[1;33m.\u001b[0m\u001b[0mroute\u001b[0m\u001b[1;33m(\u001b[0m\u001b[1;34m'/'\u001b[0m\u001b[1;33m)\u001b[0m\u001b[1;33m\u001b[0m\u001b[1;33m\u001b[0m\u001b[0m\n",
      "\u001b[1;31mImportError\u001b[0m: cannot import name 'requests' from 'flask' (C:\\ProgramData\\Anaconda3\\lib\\site-packages\\flask\\__init__.py)"
     ]
    }
   ],
   "source": [
    "from flask import Flask\n",
    "import requests\n",
    "\n",
    "app = Flask(__name__)\n",
    "\n",
    "@app.route('/')\n",
    "\n",
    "def hello():\n",
    "    name = request.args.get(\"name\",\"world\")\n",
    "    \n",
    "    return f'hello, {name}!'\n",
    "app.run(host='0.0.0.0', port=8000)"
   ]
  },
  {
   "cell_type": "code",
   "execution_count": null,
   "metadata": {},
   "outputs": [],
   "source": []
  },
  {
   "cell_type": "code",
   "execution_count": null,
   "metadata": {},
   "outputs": [],
   "source": []
  }
 ],
 "metadata": {
  "kernelspec": {
   "display_name": "Python 3",
   "language": "python",
   "name": "python3"
  },
  "language_info": {
   "codemirror_mode": {
    "name": "ipython",
    "version": 3
   },
   "file_extension": ".py",
   "mimetype": "text/x-python",
   "name": "python",
   "nbconvert_exporter": "python",
   "pygments_lexer": "ipython3",
   "version": "3.7.3"
  }
 },
 "nbformat": 4,
 "nbformat_minor": 2
}
